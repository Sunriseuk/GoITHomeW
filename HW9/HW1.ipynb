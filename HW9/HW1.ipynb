{
 "cells": [
  {
   "cell_type": "code",
   "execution_count": 43,
   "metadata": {},
   "outputs": [
    {
     "name": "stdout",
     "output_type": "stream",
     "text": [
      "{'коля': 380954504490, 'оля': 380934432345, 'таня': 380634562399, 'наташа': 380671232349}\n",
      "{'коля': 380954504490, 'оля': 380934432345, 'таня': 380634562399, 'наташа': 380671232399}\n"
     ]
    }
   ],
   "source": [
    "import re\n",
    "\n",
    "phone_book = {\n",
    "    \"коля\": 380954504490,\n",
    "    \"оля\": 380934432345,\n",
    "    \"таня\": 380634562399,\n",
    "    \"наташа\": 380671232349\n",
    "}\n",
    "\n",
    "\n",
    "def changefun(change):  # Функция, которая добавляет номер выбранного контакта\n",
    "    contact = change.split(' ')\n",
    "    num = '380\\d{9}'\n",
    "    print(phone_book)\n",
    "    if contact[1] in phone_book.keys() and contact[1].isalpha() and len(contact[2]) == 12 and re.match(num, contact[2]) is not None:\n",
    "            phone_book[contact[1]] = int(contact[2])\n",
    "                \n",
    "    else:\n",
    "        print('Error! Enter: \"add name 380XXXXXXXXX\"')\n",
    "\n",
    "\n",
    "changefun('phone наташа 380671232399')\n",
    "\n",
    "# \"наташа\": 380671232349\n"
   ]
  }
 ],
 "metadata": {
  "kernelspec": {
   "display_name": "Python 3.9.7 64-bit",
   "language": "python",
   "name": "python3"
  },
  "language_info": {
   "codemirror_mode": {
    "name": "ipython",
    "version": 3
   },
   "file_extension": ".py",
   "mimetype": "text/x-python",
   "name": "python",
   "nbconvert_exporter": "python",
   "pygments_lexer": "ipython3",
   "version": "3.9.7"
  },
  "orig_nbformat": 4,
  "vscode": {
   "interpreter": {
    "hash": "4698eee82bfeef7d49f55fc71934e22031bab73d8ad6ec1bfec5673122f1a993"
   }
  }
 },
 "nbformat": 4,
 "nbformat_minor": 2
}
