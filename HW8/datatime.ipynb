{
 "cells": [
  {
   "cell_type": "markdown",
   "metadata": {},
   "source": [
    "Тип данных Date\n"
   ]
  },
  {
   "cell_type": "code",
   "execution_count": 5,
   "metadata": {},
   "outputs": [
    {
     "name": "stdout",
     "output_type": "stream",
     "text": [
      "1992-10-06\n",
      "<class 'datetime.date'>\n",
      "\n",
      "1992-10-06\n",
      "<class 'datetime.date'>\n"
     ]
    }
   ],
   "source": [
    "from datetime import date\n",
    "\n",
    "my_date = date(1992, 10, 6)  # Тип данных дата: год+месяц+число\n",
    "my_new_date = date(day=6, month=10, year=1992)  # именнованные аргументы\n",
    "\n",
    "\n",
    "print(my_date)\n",
    "print(type(my_date))\n",
    "print()\n",
    "print(my_new_date)\n",
    "print(type(my_new_date))\n"
   ]
  },
  {
   "cell_type": "markdown",
   "metadata": {},
   "source": [
    "Иногда приходится работать не только с общими сведениями о дате, но и с отдельными ее составляющими, такими как год, месяц или день. Получить доступ к ним можно с помощью атрибутов:\n",
    "\n",
    "    year — год даты\n",
    "    month — месяц даты\n",
    "    day — день даты\n"
   ]
  },
  {
   "cell_type": "code",
   "execution_count": 6,
   "metadata": {},
   "outputs": [
    {
     "name": "stdout",
     "output_type": "stream",
     "text": [
      "Year =  1992\n",
      "Month =  10\n",
      "Day =  6\n"
     ]
    }
   ],
   "source": [
    "from datetime import date\n",
    "\n",
    "my_date = date(1992, 10, 6)\n",
    "\n",
    "print('Year = ', my_date.year)\n",
    "print('Month = ', my_date.month)\n",
    "print('Day = ', my_date.day)\n"
   ]
  },
  {
   "cell_type": "markdown",
   "metadata": {},
   "source": [
    "Если необходимо получить информацию о текущей дате на компьютере, на котором выполняется программа, то используется встроенный метод today().\n"
   ]
  },
  {
   "cell_type": "code",
   "execution_count": 7,
   "metadata": {},
   "outputs": [
    {
     "name": "stdout",
     "output_type": "stream",
     "text": [
      "2022-09-23\n"
     ]
    }
   ],
   "source": [
    "from datetime import date\n",
    "\n",
    "creation_date = date.today()\n",
    "print(creation_date)\n"
   ]
  },
  {
   "cell_type": "markdown",
   "metadata": {},
   "source": [
    "С помощью встроенного метода weekday() можно определить день недели (нумерация начинается с 00):\n",
    "\n",
    "    0= понедельник\n",
    "    1= вторник\n",
    "    2= среда\n",
    "    3= четверг\n",
    "    4= пятница\n",
    "    5= суббота\n",
    "    6= воскресенье\n"
   ]
  },
  {
   "cell_type": "code",
   "execution_count": 8,
   "metadata": {},
   "outputs": [
    {
     "name": "stdout",
     "output_type": "stream",
     "text": [
      "5\n",
      "6\n"
     ]
    }
   ],
   "source": [
    "from datetime import date\n",
    "\n",
    "date1 = date(2022, 10, 15)\n",
    "date2 = date(1999, 12, 26)\n",
    "\n",
    "print(date1.weekday())\n",
    "print(date2.weekday())\n"
   ]
  },
  {
   "cell_type": "markdown",
   "metadata": {},
   "source": [
    "Если требуется определить день недели с нумерацией, начиная с 1, то используется метод isoweekday().\n",
    "\n",
    "Приведенный ниже код:\n",
    "\n",
    "    1= понедельник\n",
    "    2= вторник\n",
    "    3= среда\n",
    "    4= четверг\n",
    "    5= пятница\n",
    "    6= суббота\n",
    "    7= воскресенье\n"
   ]
  },
  {
   "cell_type": "code",
   "execution_count": 9,
   "metadata": {},
   "outputs": [
    {
     "name": "stdout",
     "output_type": "stream",
     "text": [
      "6\n",
      "7\n"
     ]
    }
   ],
   "source": [
    "from datetime import date\n",
    "\n",
    "date1 = date(2022, 10, 15)\n",
    "date2 = date(1999, 12, 26)\n",
    "\n",
    "print(date1.isoweekday())\n",
    "print(date2.isoweekday())\n"
   ]
  },
  {
   "cell_type": "markdown",
   "metadata": {},
   "source": [
    "Для получения минимально и максимально возможных дат (в рамках типа данных date) используются атрибуты min и max.\n"
   ]
  },
  {
   "cell_type": "code",
   "execution_count": 10,
   "metadata": {},
   "outputs": [
    {
     "name": "stdout",
     "output_type": "stream",
     "text": [
      "0001-01-01\n",
      "9999-12-31\n"
     ]
    }
   ],
   "source": [
    "from datetime import date\n",
    "\n",
    "print(date.min)\n",
    "print(date.max)\n"
   ]
  },
  {
   "cell_type": "markdown",
   "metadata": {},
   "source": [
    "Методы fromordinal() и toordinal() позволяют создать дату из номера дня, начиная с 0001-01-01, и наоборот, преобразовать дату в номер дня.\n"
   ]
  },
  {
   "cell_type": "code",
   "execution_count": 15,
   "metadata": {},
   "outputs": [
    {
     "name": "stdout",
     "output_type": "stream",
     "text": [
      "0001-12-31\n",
      "738421\n"
     ]
    }
   ],
   "source": [
    "from datetime import date\n",
    "\n",
    "date1 = date.fromordinal(365)  # дата, соответствуюшая номеру дня 365\n",
    "date2 = date(2022, 9, 23)  # номер дня, соответствующий дате 2022-09-23\n",
    "\n",
    "print(date1)\n",
    "print(date2.toordinal())"
   ]
  },
  {
   "cell_type": "markdown",
   "metadata": {},
   "source": [
    "Тип данных Time\n",
    "\n",
    "Тип данных (класс) time используется для представления данных о времени и включает информацию о часах, минутах, секундах и микросекундах. Данный тип данных полностью игнорирует информацию о дате."
   ]
  },
  {
   "cell_type": "code",
   "execution_count": 16,
   "metadata": {},
   "outputs": [
    {
     "name": "stdout",
     "output_type": "stream",
     "text": [
      "11:20:54.001234\n",
      "<class 'datetime.time'>\n"
     ]
    }
   ],
   "source": [
    "from datetime import time\n",
    "\n",
    "my_time = time(11, 20, 54, 1234)  #тип time: часы + минуты + секунды + микросекунды\n",
    "\n",
    "print(my_time)\n",
    "print(type(my_time))"
   ]
  },
  {
   "cell_type": "markdown",
   "metadata": {},
   "source": [
    "Конструктор типа timeсначала принимает часы, затем минуты, секунды, а уже потом микросекунды. Мы можем использовать именованные аргументы (hour, minute, second, microsecond), нарушая указанный порядок. \n",
    "\n",
    "Указывая аргументы hour, minute, second, microsecond, не следует забывать про ограничения. К примеру, нельзя указать значение hour, большее 2323, или значение second, большее 5959.\n",
    "\n",
    "В отличие от дат (тип данных date), чтобы создать объект типа time, необязательно указывать все его атрибуты в конструкторе. Недостающие данные о времени автоматически заполняются нулями."
   ]
  },
  {
   "cell_type": "code",
   "execution_count": 17,
   "metadata": {},
   "outputs": [
    {
     "name": "stdout",
     "output_type": "stream",
     "text": [
      "11:20:54.001234\n",
      "11:20:54\n",
      "11:20:00\n",
      "11:00:00\n",
      "00:00:00\n",
      "00:23:56\n"
     ]
    }
   ],
   "source": [
    "from datetime import time\n",
    "\n",
    "time1 = time(11, 20, 54, 1234)\n",
    "time2 = time(11, 20, 54)\n",
    "time3 = time(11, 20)\n",
    "time4 = time(11)\n",
    "time5 = time()\n",
    "time6 = time(minute=23, second=56)\n",
    "\n",
    "print(time1, time2, time3, time4, time5, time6, sep='\\n')\n",
    "\n"
   ]
  },
  {
   "cell_type": "markdown",
   "metadata": {},
   "source": [
    "Так же, как и при работе с типом данных date, пользуясь типом time, можно получать доступ к отдельным значениям созданного времени: часам, минутам, секундам и микросекундам. Получить доступ к ним можно с помощью атрибутов:\n",
    "\n",
    "    hour — часы времени\n",
    "    minute — минуты времени\n",
    "    second — секунды времени\n",
    "    microsecond — микросекунды времени"
   ]
  },
  {
   "cell_type": "code",
   "execution_count": 19,
   "metadata": {},
   "outputs": [
    {
     "name": "stdout",
     "output_type": "stream",
     "text": [
      "Часы = 11\n",
      "Минуты = 20\n",
      "Секунды = 54\n",
      "Микросекунды = 1234\n"
     ]
    }
   ],
   "source": [
    "from datetime import time\n",
    "\n",
    "my_time = time(11, 20, 54, 1234)\n",
    "\n",
    "print('Часы =', my_time.hour)\n",
    "print('Минуты =', my_time.minute)\n",
    "print('Секунды =', my_time.second)\n",
    "print('Микросекунды =', my_time.microsecond)\n"
   ]
  },
  {
   "cell_type": "markdown",
   "metadata": {},
   "source": [
    "Сравнение дат и времени\n",
    "\n",
    "Дату (тип date) и время (тип time) можно сравнивать с помощью операторов ==, !=, <, >, <= и  >=."
   ]
  },
  {
   "cell_type": "code",
   "execution_count": 20,
   "metadata": {},
   "outputs": [
    {
     "name": "stdout",
     "output_type": "stream",
     "text": [
      "False\n",
      "True\n"
     ]
    }
   ],
   "source": [
    "from datetime import date, time\n",
    "\n",
    "date1 = date(2022, 10, 15)\n",
    "date2 = date(1999, 12, 26)\n",
    "\n",
    "time1 = time(13, 10, 5)\n",
    "time2 = time(21, 32, 59)\n",
    "\n",
    "print(date1 < date2)\n",
    "print(time1 < time2)\n"
   ]
  },
  {
   "cell_type": "markdown",
   "metadata": {},
   "source": [
    "Функции str() и repr()\n",
    "\n",
    "На практике часто используются две встроенные функции str() и repr(). С их помощью можно получить строковое представление объекта.\n",
    "\n",
    "Встроенная функция str() возвращает объект в неформальном (понятном человеку)строковом представлении."
   ]
  },
  {
   "cell_type": "code",
   "execution_count": 22,
   "metadata": {},
   "outputs": [
    {
     "name": "stdout",
     "output_type": "stream",
     "text": [
      "2021-12-31\n",
      "11:20:54\n",
      "\n",
      "2021-12-31\n",
      "11:20:54\n"
     ]
    }
   ],
   "source": [
    "from datetime import date, time\n",
    "\n",
    "\n",
    "my_date = date(2021, 12, 31)\n",
    "my_time = time(11, 20, 54)\n",
    "\n",
    "\n",
    "print(my_date)\n",
    "print(my_time)\n",
    "print()\n",
    "print(str(my_date))\n",
    "print(str(my_time))\n"
   ]
  },
  {
   "cell_type": "markdown",
   "metadata": {},
   "source": [
    "Встроенная функция repr()возвращает объект в формальном (понятном интерпретатору)строковом представлении."
   ]
  },
  {
   "cell_type": "code",
   "execution_count": 23,
   "metadata": {},
   "outputs": [
    {
     "name": "stdout",
     "output_type": "stream",
     "text": [
      "datetime.date(2021, 12, 31)\n",
      "datetime.time(11, 20, 54)\n"
     ]
    }
   ],
   "source": [
    "from datetime import date, time\n",
    "\n",
    "\n",
    "my_date = date(2021, 12, 31)\n",
    "my_time = time(11, 20, 54)\n",
    "\n",
    "\n",
    "print(repr(my_date))\n",
    "print(repr(my_time))\n"
   ]
  },
  {
   "cell_type": "markdown",
   "metadata": {},
   "source": [
    "Если мы хотим вывести содержимое списка в человеческом виде, то нужно прибегнуть к распаковке, в этом случае функция str()будет вызываться для каждого элемента списка за кулисами.\n"
   ]
  },
  {
   "cell_type": "code",
   "execution_count": 24,
   "metadata": {},
   "outputs": [
    {
     "name": "stdout",
     "output_type": "stream",
     "text": [
      "2021-12-31\n",
      "2019-10-06\n",
      "2022-11-08\n"
     ]
    }
   ],
   "source": [
    "from datetime import date\n",
    "\n",
    "\n",
    "dates = [date(2021, 12, 31), date(2019, 10, 6), date(2022, 11, 8)]\n",
    "\n",
    "\n",
    "print(*dates, sep='\\n')\n"
   ]
  },
  {
   "cell_type": "markdown",
   "metadata": {},
   "source": [
    "ПРИМЕЧАНИЯ"
   ]
  },
  {
   "cell_type": "markdown",
   "metadata": {},
   "source": [
    "Примечание 1.Оба типа данных date и time являются неизменяемыми. Мы можем создать множества, содержащие объекты данных типов (date и time), а также они могут выступать в качестве ключей словаря."
   ]
  },
  {
   "cell_type": "code",
   "execution_count": 25,
   "metadata": {},
   "outputs": [
    {
     "name": "stdout",
     "output_type": "stream",
     "text": [
      "{datetime.date(2019, 3, 9), datetime.date(2022, 5, 25), datetime.date(2021, 12, 31)}\n",
      "{datetime.date(2021, 12, 31): 'Новый год', datetime.date(2030, 10, 6): 'День рождения'}\n"
     ]
    }
   ],
   "source": [
    "from datetime import date\n",
    "\n",
    "my_set = {date(2021, 12, 31), date(2019, 3, 9), date(2022, 5, 25)}  # множество\n",
    "my_dict = {date(2021, 12, 31): 'Новый год', date(\n",
    "    2030, 10, 6): 'День рождения'}  # словарь\n",
    "\n",
    "print(my_set)\n",
    "print(my_dict)"
   ]
  },
  {
   "cell_type": "markdown",
   "metadata": {},
   "source": [
    "Примечание 2.Мы можем использовать встроенные функции min(),  max(), sorted() и т.д. при работе с типами данных date и time."
   ]
  },
  {
   "cell_type": "code",
   "execution_count": 26,
   "metadata": {},
   "outputs": [
    {
     "name": "stdout",
     "output_type": "stream",
     "text": [
      "2017-05-25\n",
      "2025-03-19\n",
      "[datetime.date(2017, 5, 25), datetime.date(2021, 12, 31), datetime.date(2025, 3, 19)]\n"
     ]
    }
   ],
   "source": [
    "from datetime import date, time\n",
    "\n",
    "\n",
    "dates = [date(2021, 12, 31), date(2025, 3, 19), date(2017, 5, 25)]\n",
    "\n",
    "\n",
    "print(min(dates))\n",
    "print(max(dates))\n",
    "print(sorted(dates))\n"
   ]
  },
  {
   "cell_type": "markdown",
   "metadata": {},
   "source": [
    "Примечание 3.Для создания новой даты на основании уже существующей можно использовать встроенный метод replace(). Он возвращает новую дату с переданными измененными значениями свойств year, month, day."
   ]
  },
  {
   "cell_type": "code",
   "execution_count": 27,
   "metadata": {},
   "outputs": [
    {
     "name": "stdout",
     "output_type": "stream",
     "text": [
      "1992-10-06\n",
      "1995-10-06\n",
      "1992-12-17\n"
     ]
    }
   ],
   "source": [
    "from datetime import date\n",
    "\n",
    "date1 = date(1992, 10, 6)\n",
    "date2 = date1.replace(year=1995)\n",
    "date3 = date1.replace(month=12, day=17)\n",
    "\n",
    "print(date1)\n",
    "print(date2)\n",
    "print(date3)"
   ]
  },
  {
   "cell_type": "markdown",
   "metadata": {},
   "source": [
    "Аналогично для создания нового времени на основании уже существующего используется метод replace()."
   ]
  },
  {
   "cell_type": "code",
   "execution_count": 28,
   "metadata": {},
   "outputs": [
    {
     "name": "stdout",
     "output_type": "stream",
     "text": [
      "17:10:06\n",
      "21:10:06\n",
      "17:48:59\n"
     ]
    }
   ],
   "source": [
    "from datetime import time\n",
    "\n",
    "\n",
    "time1 = time(17, 10, 6)\n",
    "time2 = time1.replace(hour=21)                  # заменяем час\n",
    "time3 = time1.replace(minute=48, second=59)    # заменяем минуты и секунды\n",
    "\n",
    "\n",
    "print(time1)\n",
    "print(time2)\n",
    "print(time3)\n"
   ]
  },
  {
   "cell_type": "markdown",
   "metadata": {},
   "source": [
    "Примечание 5.Помните про ограничения на атрибуты (year, month, day, hour, minute, second, microsecond), которые используете для создания объектов типов date и time. В случае использования неверного значения возникнет ошибка (исключение) ValueError."
   ]
  },
  {
   "cell_type": "code",
   "execution_count": 29,
   "metadata": {},
   "outputs": [
    {
     "ename": "ValueError",
     "evalue": "month must be in 1..12",
     "output_type": "error",
     "traceback": [
      "\u001b[1;31m---------------------------------------------------------------------------\u001b[0m",
      "\u001b[1;31mValueError\u001b[0m                                Traceback (most recent call last)",
      "\u001b[1;32mf:\\GoIT_Python_Project\\GitHub\\HomeWork\\HW8\\datatime.ipynb Ячейка 39\u001b[0m in \u001b[0;36m<cell line: 4>\u001b[1;34m()\u001b[0m\n\u001b[0;32m      <a href='vscode-notebook-cell:/f%3A/GoIT_Python_Project/GitHub/HomeWork/HW8/datatime.ipynb#X55sZmlsZQ%3D%3D?line=0'>1</a>\u001b[0m \u001b[39mfrom\u001b[39;00m \u001b[39mdatetime\u001b[39;00m \u001b[39mimport\u001b[39;00m date\n\u001b[1;32m----> <a href='vscode-notebook-cell:/f%3A/GoIT_Python_Project/GitHub/HomeWork/HW8/datatime.ipynb#X55sZmlsZQ%3D%3D?line=3'>4</a>\u001b[0m my_date \u001b[39m=\u001b[39m date(\u001b[39m2021\u001b[39;49m, \u001b[39m19\u001b[39;49m, \u001b[39m7\u001b[39;49m)    \u001b[39m# несуществующий месяц\u001b[39;00m\n\u001b[0;32m      <a href='vscode-notebook-cell:/f%3A/GoIT_Python_Project/GitHub/HomeWork/HW8/datatime.ipynb#X55sZmlsZQ%3D%3D?line=6'>7</a>\u001b[0m \u001b[39mprint\u001b[39m(my_date)\n",
      "\u001b[1;31mValueError\u001b[0m: month must be in 1..12"
     ]
    }
   ],
   "source": [
    "from datetime import date\n",
    "\n",
    "\n",
    "my_date = date(2021, 19, 7)    # несуществующий месяц\n",
    "\n",
    "\n",
    "print(my_date)\n"
   ]
  },
  {
   "cell_type": "markdown",
   "metadata": {},
   "source": [
    "Примечание 6.Документация по модулю datetime доступна по ссылке. https://docs.python.org/3/library/datetime.html\n"
   ]
  },
  {
   "cell_type": "markdown",
   "metadata": {},
   "source": [
    "Примечание 7. По умолчанию объекты типов dateи timeвыводятся в ISO 8601 формате:\n",
    "\n",
    "    дата в формате ISO 8601 имеет вид: YYYY-MM-DD\n",
    "    время в формате ISO 8601 имеет вид: HH:MM:SSили HH:MM:SS.ffffff"
   ]
  },
  {
   "cell_type": "code",
   "execution_count": 2,
   "metadata": {},
   "outputs": [
    {
     "ename": "TypeError",
     "evalue": "'list' object cannot be interpreted as an integer",
     "output_type": "error",
     "traceback": [
      "\u001b[1;31m---------------------------------------------------------------------------\u001b[0m",
      "\u001b[1;31mTypeError\u001b[0m                                 Traceback (most recent call last)",
      "\u001b[1;32mf:\\GoIT_Python_Project\\GitHub\\HomeWork\\HW8\\datatime.ipynb Ячейка 42\u001b[0m in \u001b[0;36m<cell line: 4>\u001b[1;34m()\u001b[0m\n\u001b[0;32m      <a href='vscode-notebook-cell:/f%3A/GoIT_Python_Project/GitHub/HomeWork/HW8/datatime.ipynb#X56sZmlsZQ%3D%3D?line=0'>1</a>\u001b[0m \u001b[39mfrom\u001b[39;00m \u001b[39mdatetime\u001b[39;00m \u001b[39mimport\u001b[39;00m date\n\u001b[0;32m      <a href='vscode-notebook-cell:/f%3A/GoIT_Python_Project/GitHub/HomeWork/HW8/datatime.ipynb#X56sZmlsZQ%3D%3D?line=2'>3</a>\u001b[0m a \u001b[39m=\u001b[39m [\u001b[39m2020\u001b[39m, \u001b[39m11\u001b[39m, \u001b[39m12\u001b[39m]\n\u001b[1;32m----> <a href='vscode-notebook-cell:/f%3A/GoIT_Python_Project/GitHub/HomeWork/HW8/datatime.ipynb#X56sZmlsZQ%3D%3D?line=3'>4</a>\u001b[0m \u001b[39mprint\u001b[39m(date(a))\n",
      "\u001b[1;31mTypeError\u001b[0m: 'list' object cannot be interpreted as an integer"
     ]
    }
   ],
   "source": [
    "from datetime import date\n",
    "\n",
    "a = [2020, 11, 12]\n",
    "print(date(a))"
   ]
  },
  {
   "cell_type": "code",
   "execution_count": 8,
   "metadata": {},
   "outputs": [
    {
     "ename": "TypeError",
     "evalue": "descriptor 'strftime' for 'datetime.date' objects doesn't apply to a 'str' object",
     "output_type": "error",
     "traceback": [
      "\u001b[1;31m---------------------------------------------------------------------------\u001b[0m",
      "\u001b[1;31mTypeError\u001b[0m                                 Traceback (most recent call last)",
      "\u001b[1;32mf:\\GoIT_Python_Project\\GitHub\\HomeWork\\HW8\\datatime.ipynb Ячейка 43\u001b[0m in \u001b[0;36m<cell line: 4>\u001b[1;34m()\u001b[0m\n\u001b[0;32m      <a href='vscode-notebook-cell:/f%3A/GoIT_Python_Project/GitHub/HomeWork/HW8/datatime.ipynb#X61sZmlsZQ%3D%3D?line=0'>1</a>\u001b[0m \u001b[39mfrom\u001b[39;00m \u001b[39mdatetime\u001b[39;00m \u001b[39mimport\u001b[39;00m datetime\n\u001b[0;32m      <a href='vscode-notebook-cell:/f%3A/GoIT_Python_Project/GitHub/HomeWork/HW8/datatime.ipynb#X61sZmlsZQ%3D%3D?line=2'>3</a>\u001b[0m user_input \u001b[39m=\u001b[39m \u001b[39minput\u001b[39m(\u001b[39m'\u001b[39m\u001b[39mEntar datetime in format dd.mm [-]: \u001b[39m\u001b[39m'\u001b[39m)\n\u001b[1;32m----> <a href='vscode-notebook-cell:/f%3A/GoIT_Python_Project/GitHub/HomeWork/HW8/datatime.ipynb#X61sZmlsZQ%3D%3D?line=3'>4</a>\u001b[0m user_entered_date \u001b[39m=\u001b[39m datetime\u001b[39m.\u001b[39;49mstrftime(user_input, \u001b[39m'\u001b[39;49m\u001b[39m%d\u001b[39;49;00m\u001b[39m.\u001b[39;49m\u001b[39m%\u001b[39;49m\u001b[39mm\u001b[39;49m\u001b[39m'\u001b[39;49m)\n\u001b[0;32m      <a href='vscode-notebook-cell:/f%3A/GoIT_Python_Project/GitHub/HomeWork/HW8/datatime.ipynb#X61sZmlsZQ%3D%3D?line=4'>5</a>\u001b[0m \u001b[39mprint\u001b[39m(user_entered_date)\n",
      "\u001b[1;31mTypeError\u001b[0m: descriptor 'strftime' for 'datetime.date' objects doesn't apply to a 'str' object"
     ]
    }
   ],
   "source": [
    "from datetime import datetime\n",
    "\n",
    "user_input = input('Entar datetime in format dd.mm [-]: ')\n",
    "user_entered_date = datetime.strftime(user_input, '%d.%m')\n",
    "print(user_entered_date)"
   ]
  },
  {
   "cell_type": "code",
   "execution_count": 7,
   "metadata": {},
   "outputs": [
    {
     "ename": "AttributeError",
     "evalue": "type object 'datetime.datetime' has no attribute 'datetime'",
     "output_type": "error",
     "traceback": [
      "\u001b[1;31m---------------------------------------------------------------------------\u001b[0m",
      "\u001b[1;31mAttributeError\u001b[0m                            Traceback (most recent call last)",
      "\u001b[1;32mf:\\GoIT_Python_Project\\GitHub\\HomeWork\\HW8\\datatime.ipynb Ячейка 43\u001b[0m in \u001b[0;36m<cell line: 3>\u001b[1;34m()\u001b[0m\n\u001b[0;32m      <a href='vscode-notebook-cell:/f%3A/GoIT_Python_Project/GitHub/HomeWork/HW8/datatime.ipynb#X60sZmlsZQ%3D%3D?line=0'>1</a>\u001b[0m \u001b[39mfrom\u001b[39;00m \u001b[39mdatetime\u001b[39;00m \u001b[39mimport\u001b[39;00m datetime\n\u001b[1;32m----> <a href='vscode-notebook-cell:/f%3A/GoIT_Python_Project/GitHub/HomeWork/HW8/datatime.ipynb#X60sZmlsZQ%3D%3D?line=2'>3</a>\u001b[0m today \u001b[39m=\u001b[39m \u001b[39mstr\u001b[39m((datetime\u001b[39m.\u001b[39;49mdatetime\u001b[39m.\u001b[39mnow()))\n\u001b[0;32m      <a href='vscode-notebook-cell:/f%3A/GoIT_Python_Project/GitHub/HomeWork/HW8/datatime.ipynb#X60sZmlsZQ%3D%3D?line=3'>4</a>\u001b[0m first \u001b[39m=\u001b[39m dct_fist[today]\u001b[39m.\u001b[39mdate()\n\u001b[0;32m      <a href='vscode-notebook-cell:/f%3A/GoIT_Python_Project/GitHub/HomeWork/HW8/datatime.ipynb#X60sZmlsZQ%3D%3D?line=4'>5</a>\u001b[0m last \u001b[39m=\u001b[39m dct_last[today]\u001b[39m.\u001b[39mdate()\n",
      "\u001b[1;31mAttributeError\u001b[0m: type object 'datetime.datetime' has no attribute 'datetime'"
     ]
    }
   ],
   "source": [
    "from datetime import datetime\n",
    "\n",
    "today = str((datetime.datetime.now()))\n",
    "first = dct_fist[today].date()\n",
    "last = dct_last[today].date()\n",
    "\n",
    "print(today)\n",
    "print(first)\n",
    "print(last)\n"
   ]
  }
 ],
 "metadata": {
  "kernelspec": {
   "display_name": "Python 3.10.7 64-bit (microsoft store)",
   "language": "python",
   "name": "python3"
  },
  "language_info": {
   "codemirror_mode": {
    "name": "ipython",
    "version": 3
   },
   "file_extension": ".py",
   "mimetype": "text/x-python",
   "name": "python",
   "nbconvert_exporter": "python",
   "pygments_lexer": "ipython3",
   "version": "3.10.7"
  },
  "orig_nbformat": 4,
  "vscode": {
   "interpreter": {
    "hash": "ed7be02089ffed073fc94961a2816327ba503e6ccd40fc2b18e98827abff8348"
   }
  }
 },
 "nbformat": 4,
 "nbformat_minor": 2
}
