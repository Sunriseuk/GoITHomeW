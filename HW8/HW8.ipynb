{
 "cells": [
  {
   "cell_type": "code",
   "execution_count": null,
   "metadata": {},
   "outputs": [],
   "source": [
    "from datetime import datetime, date, timedelta\n",
    "from collections import defaultdict\n",
    "from calendar import day_name\n",
    "\n",
    "\n",
    "users = [\n",
    "    {'name': \"Vasiliy\", \"birthday\": date(1990, 9, 24)},\n",
    "    {'name': \"Kostya\", \"birthday\": date(1988, 9, 25)},\n",
    "    {'name': \"Max\", \"birthday\": date(1986, 9, 24)},\n",
    "    {'name': \"Masha\", \"birthday\": date(1992, 9, 30)},\n",
    "    {'name': \"Polina\", \"birthday\": date(1992, 9, 26)},\n",
    "    {'name': \"Tima\", \"birthday\": date(1994, 9, 28)},\n",
    "    {'name': \"Ira\", \"birthday\": date(1999, 9, 29)},\n",
    "    {'name': \"Katya\", \"birthday\": date(1998, 9, 27)},\n",
    "    {'name': \"Nastya\", \"birthday\": date(1996, 9, 25)},\n",
    "    {'name': \"Inna\", \"birthday\": date(1999, 9, 29)},\n",
    "    {'name': \"Misha\", \"birthday\": date(1990, 9, 28)},\n",
    "    {'name': \"Vova\", \"birthday\": date(1992, 9, 30)},\n",
    "    {'name': \"Sergey\", \"birthday\": date(1992, 9, 26)},\n",
    "    {'name': \"Mika\", \"birthday\": date(1992, 9, 27)},\n",
    "    {\"name\": \"Tanya\", \"birthday\": date(1990, 9, 28)},\n",
    "    {\"name\": \"Kostya\", \"birthday\": date(1998, 9, 27)},\n",
    "    {\"name\": \"Serhiy\", \"birthday\": date(1988, 9, 25)},\n",
    "    {\"name\": \"Sasha\", \"birthday\": date(1990, 9, 28)},\n",
    "    {\"name\": \"Nastya\", \"birthday\": date(1988, 9, 25)},\n",
    "    {\"name\": \"Vasya\", \"birthday\": date(1988, 9, 25)},\n",
    "    {\"name\": \"Pasha\", \"birthday\": date(1986, 9, 24)},\n",
    "    {\"name\": \"Olia\", \"birthday\": date(1990, 9, 28)}\n",
    "]\n",
    "\n",
    "\n",
    "def get_birthdays_per_week(users):\n",
    "\n",
    "    result = defaultdict(str)\n",
    "    for individ in users:\n",
    "        if (datetime.now()).weekday() == 0:\n",
    "            if (((individ[\"birthday\"]).replace(year=(datetime.now()).year)) - (datetime.now()).date()) == timedelta(-2):\n",
    "                result[\"Monday\"] += (individ[\"name\"]) + \", \"\n",
    "            if (((individ[\"birthday\"]).replace(year=(datetime.now()).year)) - (datetime.now()).date()) == timedelta(-1):\n",
    "                result[\"Monday\"] += (individ[\"name\"]) + \", \"\n",
    "            if timedelta(0) <= (((individ[\"birthday\"]).replace(year=(datetime.now()).year)) - (datetime.now()).date()) <= timedelta(7):\n",
    "                result[day_name[((individ[\"birthday\"]).replace(\n",
    "                    year=(datetime.now()).year).weekday())]] += (individ[\"name\"]) + \", \"\n",
    "        elif timedelta(0) <= (((individ[\"birthday\"]).replace(year=(datetime.now()).year)) - (datetime.now()).date()) <= timedelta(7):\n",
    "            result[day_name[((individ[\"birthday\"]).replace(\n",
    "                year=(datetime.now()).year).weekday())]] += (individ[\"name\"]) + \", \"\n",
    "\n",
    "    md = result.get('Monday')\n",
    "    tue = result.get('Tuesday')\n",
    "    wed = result.get('Wednesday')\n",
    "    thur = result.get('Thursday')\n",
    "    fri = result.get('Friday')\n",
    "    sat = result.get('Saturday')\n",
    "    sun = result.get('Sunday')\n",
    "\n",
    "    print(\n",
    "        f'Congratulations on: \\n Monday: {sat}{sun}{md[0:-2]} \\n Tuesday: {tue[0:-2]} \\n Wednesday: {wed[0:-2]} \\n Thursday: {thur[0:-2]} \\n Friday: {fri[0:-2]}')\n",
    "\n",
    "\n",
    "get_birthdays_per_week(users)\n"
   ]
  },
  {
   "cell_type": "code",
   "execution_count": null,
   "metadata": {},
   "outputs": [],
   "source": []
  }
 ],
 "metadata": {
  "kernelspec": {
   "display_name": "Python 3.10.7 64-bit (microsoft store)",
   "language": "python",
   "name": "python3"
  },
  "language_info": {
   "codemirror_mode": {
    "name": "ipython",
    "version": 3
   },
   "file_extension": ".py",
   "mimetype": "text/x-python",
   "name": "python",
   "nbconvert_exporter": "python",
   "pygments_lexer": "ipython3",
   "version": "3.10.7"
  },
  "orig_nbformat": 4,
  "vscode": {
   "interpreter": {
    "hash": "ed7be02089ffed073fc94961a2816327ba503e6ccd40fc2b18e98827abff8348"
   }
  }
 },
 "nbformat": 4,
 "nbformat_minor": 2
}
