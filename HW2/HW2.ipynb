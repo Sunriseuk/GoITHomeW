{
 "cells": [
  {
   "cell_type": "markdown",
   "metadata": {},
   "source": [
    "Условное выполнение. Оператор IF\n",
    "\n",
    "В первом модуле все наши программы выполнялись линейно. Для простых программ этого вполне достаточно, но при необходимости принятия решений мы приходим к ветвлению. В Python ветвление осуществляется при помощи ключевого слова if. Если результатом условного выражения будет True(Истина), то тело условия выполнится, если False(Ложь) — тело будет пропущено.\n",
    "\n",
    "num = float(input(\"Введите число: \"))\n",
    "\n",
    "if num >= 0:\n",
    "    result = \"Число положительное\"\n",
    "if num < 0:\n",
    "    result = \"Число отрицательное\"\n",
    "\n",
    "print(result)\n",
    "\n",
    "В выражении if мы использовали операторы отношения. Операторы отношения в языке Python можно свести в следующую таблицу.\n",
    "Оператор отношения \tЗначение\n",
    "< \tМеньше\n",
    "<= \tМеньше или равно\n",
    "> \tБольше\n",
    ">= \tБольше или равно\n",
    "== \tРавно\n",
    "!= \tНе равно\n",
    "\n",
    "Но чаще мы будем использовать выражение if-else. В этом выражении, если результат выражения будет True, то выполнится тело условного выражения if, а тело else будет пропущено. В противном случае все будет наоборот. Перепишем предыдущий пример:\n",
    "\n",
    "num = float(input(\"Введите число: \"))\n",
    "\n",
    "if num >= 0:\n",
    "    result = \"Число положительное\"\n",
    "else:\n",
    "    result = \"Число отрицательное\"\n",
    "\n",
    "print(result)\n",
    "\n",
    "Как видим, в нашем случае эта конструкция более предпочтительная, так как мы используем только одно условие проверки.\n",
    "На техническом собеседовании претенденты на должность получают оценку за тест. В следующий тур собеседования проходят кандидаты, сдавшие тест на 83 балла включительно или выше. Реализуйте оператор контроля выполнения так, чтобы он присвоил логической переменной is_next значение True, если количество набранных баллов будет больше или равно 83. В противном случае значение переменной равно False."
   ]
  },
  {
   "cell_type": "code",
   "execution_count": null,
   "metadata": {},
   "outputs": [],
   "source": [
    "is_next = None\n",
    "num = int(input(\"Enter the number of points: \"))\n",
    "if num >= 83:\n",
    "    is_next = True\n",
    "else:\n",
    "    is_next = False"
   ]
  },
  {
   "cell_type": "markdown",
   "metadata": {},
   "source": [
    "Булевы операции\n",
    "\n",
    "В операторе if Python существует механизм неявного приведения любого типа к типу bool.\n",
    "\n",
    "Все правила приведения к bool можно свести к четырем:\n",
    "\n",
    "    Число 0 приводится к False;\n",
    "    Значение None приводится к False;\n",
    "    Пустая строка (пустой контейнер и т.п.) приводятся к False\n",
    "    Всё остальное приводится к True\n",
    "\n",
    "Булевы выражения также могут включать булевы операторы, комбинирующие булевы значения. В Python предусмотрены три булевых оператора: not, and и or. Оператор not обращает значение булева выражения. Если переменная x содержит значение True, то выражение not x вернет False, и наоборот.\n",
    "\n",
    "Поведение всех булевых выражений может быть сведено в таблицы истинности.\n",
    "\n",
    "Таблица истинности для оператора not\n",
    "x \tnot x\n",
    "False \tTrue\n",
    "True \tFalse\n",
    "\n",
    "Таблица истинности для оператора and\n",
    "x \ty \tx and y\n",
    "False \tFalse \tFalse\n",
    "False \tTrue \tFalse\n",
    "True \tFalse \tFalse\n",
    "True \tTrue \tTrue\n",
    "\n",
    "Таблица истинности для оператора or\n",
    "x \ty \tx or y\n",
    "False \tFalse \tFalse\n",
    "False \tTrue \tTrue\n",
    "True \tFalse \tTrue\n",
    "True \tTrue \tTrue\n",
    "\n",
    "У нас есть три логические переменные.\n",
    "\n",
    "    Первая определяет статус пользователя is_active, которая равна True или False.\n",
    "    Вторая is_admin определяет, есть ли у пользователя права администратора, булевого типа.\n",
    "    Третья is_permission — разрешен ли доступ, тоже булевого типа.\n",
    "\n",
    "Приведите переменные is_active, is_admin и is_permission к булевому виду.\n",
    "\n",
    "Присвойте переменной access, значение, которое покажет, есть ли доступ у пользователя. Используйте логические операторы.\n",
    "\n",
    "Администратор всегда имеет доступ, независимо от значений переменных is_permission и is_active.\n",
    "\n",
    "Пользователь имеет доступ, только если is_permission равен True и is_active также равен True"
   ]
  },
  {
   "cell_type": "code",
   "execution_count": null,
   "metadata": {},
   "outputs": [],
   "source": [
    "is_active = bool(input(\"Is the user active? \"))\n",
    "is_admin = bool(input(\"Is the user administrator? \"))\n",
    "is_permission = bool(input(\"Does the user have access? \"))\n",
    "access = True\n",
    "if is_active and is_permission:\n",
    "    access = True\n",
    "elif is_admin:\n",
    "    access = True\n",
    "else:\n",
    "    access = False"
   ]
  },
  {
   "cell_type": "markdown",
   "metadata": {},
   "source": [
    "Выражение IF-ELIF-ELSE\n",
    "\n",
    "Выражение if–elif–else мы будем использовать в случаях, когда перед нами становится выбор из нескольких альтернатив. Выражение начинается с части if, за которой следует часть elif, а завершается конструкция блоком else.\n",
    "\n",
    "Все эти части выражения должны содержать правильные отступы. Кроме того, все инструкции if и elif должны включать в себя условия, результатом вычисления которых может быть либо True, либо False\n",
    "\n",
    "Чтобы было понятно, давайте перепишем предыдущий пример и введем третье условие — проверку на ноль.\n",
    "\n",
    "num = float(input(\"Введите число: \"))\n",
    "\n",
    "if num > 0:\n",
    "    result = \"Число положительное\"\n",
    "elif num == 0:\n",
    "    result = \"Это ноль\"\n",
    "else:\n",
    "    result = \"Число отрицательное\"\n",
    "\n",
    "print(result)\n",
    "\n",
    "Заметим, что блок else в конструкции if–elif–else является необязательным. Он нужен в том случае, если необходимо выполнение одного из блоков выражения в любом случае.\n",
    "\n",
    "Как известно, обычно разработчиков принято делить на три категории: Джун (Junior) — младший специалист, Мидл ( Middle) — основной разработчик в компании и Сеньйор (Senior) — старший разработчик. Ориентировочно можно считать, что до 1 года работы включительно — это Джуниор, больше 5 лет — это Сеньйор разработчик, а с одного года до 5 включительно — мидл.\n",
    "\n",
    "Есть переменная work_experience, определяющая стаж работы программиста. В зависимости от стажа работы, присвоить переменной developer_type значение \"Junior\", \"Middle\" или \"Senior\". Используйте, если необходимо, булевы операторы ** or** и and при проверке."
   ]
  },
  {
   "cell_type": "code",
   "execution_count": null,
   "metadata": {},
   "outputs": [],
   "source": [
    "work_experience = int(input(\"Enter your full work experience in years: \"))\n",
    "\n",
    "if work_experience > 1 and work_experience <= 5:\n",
    "    developer_type = \"Middle\"\n",
    "elif work_experience <= 1:\n",
    "    developer_type = \"Junior\"\n",
    "else:\n",
    "    developer_type = \"Senior\"\n"
   ]
  },
  {
   "cell_type": "markdown",
   "metadata": {},
   "source": [
    "Вложенные выражения if\n",
    "\n",
    "Блоки if, elif и else могут включать в себя любые выражения, включая другие блоки if, if–else, if–elif и if–elif–else. Если одно условное выражение появляется в теле другого, оно называется вложенным (nested).\n",
    "\n",
    "Следующий фрагмент кода иллюстрирует эту концепцию:\n",
    "\n",
    "num = int(input(\"Введите число: \"))\n",
    "\n",
    "if num > 0:\n",
    "    if num >= 100:\n",
    "        result = \"Положительное больше 100\"\n",
    "    else:\n",
    "        result = \"Положительное меньше 100\"\n",
    "elif num < 0:\n",
    "    result = \"Это отрицательное\"\n",
    "else:\n",
    "    result = \"Это ноль\"\n",
    "\n",
    "print(result)\n",
    "\n",
    "Перепишите пример из теории, но для положительного числа проверяйте — четное оно или нет. Таки образом после проверок переменная result должна содержать одно из четырех значений:\n",
    "\n",
    "    \"Positive even number\"\n",
    "    \"Positive odd number\"\n",
    "    \"Negative number\"\n",
    "    \"It is zero\"\n",
    "\n",
    "    Подсказка: проверка на четность выполняется сравнением остатка от деления на 2 с 0 или 1. Напомним, остаток от деления можно получить после операции %\n"
   ]
  },
  {
   "cell_type": "code",
   "execution_count": 1,
   "metadata": {},
   "outputs": [
    {
     "name": "stdout",
     "output_type": "stream",
     "text": [
      "Positive odd number\n"
     ]
    }
   ],
   "source": [
    "num = int(input(\"Enter a number: \"))\n",
    "\n",
    "if num > 0:\n",
    "    if num % 2 != 0:\n",
    "        result = \"Positive odd number\"\n",
    "    else:\n",
    "        result = \"Positive even number\"\n",
    "elif num < 0:\n",
    "    result = \"Negative number\"\n",
    "else:\n",
    "    result = \"It is zero\"\n",
    "print(result)"
   ]
  },
  {
   "cell_type": "markdown",
   "metadata": {},
   "source": []
  }
 ],
 "metadata": {
  "kernelspec": {
   "display_name": "Python 3.10.4 64-bit",
   "language": "python",
   "name": "python3"
  },
  "language_info": {
   "codemirror_mode": {
    "name": "ipython",
    "version": 3
   },
   "file_extension": ".py",
   "mimetype": "text/x-python",
   "name": "python",
   "nbconvert_exporter": "python",
   "pygments_lexer": "ipython3",
   "version": "3.10.4"
  },
  "orig_nbformat": 4,
  "vscode": {
   "interpreter": {
    "hash": "916dbcbb3f70747c44a77c7bcd40155683ae19c65e1c03b4aa3499c5328201f1"
   }
  }
 },
 "nbformat": 4,
 "nbformat_minor": 2
}
