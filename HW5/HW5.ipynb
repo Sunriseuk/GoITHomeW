{
 "cells": [
  {
   "cell_type": "markdown",
   "metadata": {},
   "source": [
    "Управляющие символы\n",
    "\n",
    "В практике программирования достаточно часто используют управляющие символы . Это символы в кодировке, которым не приписано графическое представление, но которые используются для управления устройствами, организации передачи данных и других целей.\n",
    "\n",
    "Вот основные управляющие символы:\n",
    "Обозначение в коде \tОписание\n",
    "\\n \tПеревод строки\n",
    "\\f \tПеревод страницы\n",
    "\\r \tВозврат каретки\n",
    "\\t \tГоризонтальная табуляция\n",
    "\\v \tВертикальная табуляция\n",
    "\n",
    "Для того чтобы можно было вводить эти символы, добавляют экранирующий символ '\\', который обозначает, что следующий за ним знак надо воспринимать как специальный символ, а не буквально.\n",
    "\n",
    "Эти символы мы будем активно использовать в следующем модуле при работе с текстовыми файлами.\n",
    "\n",
    "Напишите функцию real_len, которая подсчитывает и возвращает длину строки без следующих управляющих символов: [\\n, \\f, \\r, \\t, \\v]\n",
    "\n",
    "Для проверки правильности работы функции real_len ей будут переданы следующие строки:\n",
    "\n",
    "    'Alex\\nKdfe23\\t\\f\\v.\\r'\n",
    "    'Al\\nKdfe23\\t\\v.\\r'\n"
   ]
  },
  {
   "cell_type": "code",
   "execution_count": 25,
   "metadata": {},
   "outputs": [
    {
     "data": {
      "text/plain": [
       "'AlexKdfe23.'"
      ]
     },
     "execution_count": 25,
     "metadata": {},
     "output_type": "execute_result"
    }
   ],
   "source": [
    "def real_len(text):\n",
    "    text = text.replace('\\n', '').replace(\n",
    "        '\\f', '').replace('\\r', '').replace('\\t', '').replace('\\v', '')\n",
    "    \n",
    "    return len(text)\n",
    "    \n",
    "\n",
    "\n",
    "real_len('Alex\\nKdfe23\\t\\f\\v.\\r')\n"
   ]
  },
  {
   "cell_type": "markdown",
   "metadata": {},
   "source": [
    "Методы строк\n",
    "\n",
    "Мы уже работали с методами строк на предыдущих этапах. Рассмотрим новую порцию методов, которые пригодятся нам в работе.\n",
    "Поиск в строке\n",
    "\n",
    "Метод find принимает три аргумента.\n",
    "\n",
    "message = \"Hello my little friend!\"\n",
    "\n",
    "print(message.find(\"li\", 5, 15))  # 9\n",
    "print(message.find(\"li\", 10, 15))  # -1\n",
    "print(message.find(\"li\"))  # 9\n",
    "\n",
    "Первый аргумент — подстрока, которую будет искать метод find в искомой строке message, второй аргумент — индекс начала поиска в message, а третий — индекс окончания поиска. Если не указать второй и третий аргумент, то поиск выполнится по всей строке. Метод выводит индекс начала первого совпадения в строке и возвращает -1, если последовательность не найдена.\n",
    "\n",
    "Есть аналогичный метод поиска подстроки в строке — index. Основное отличие заключается в том, что если index не найдет подстроку, то вызовет исключение ValueError.\n",
    "\n",
    "message = \"Hello my little friend!\"\n",
    "\n",
    "print(message.index(\"li\", 5, 15))\n",
    "print(message.index(\"li\", 10, 15))\n",
    "\n",
    "Вывод:\n",
    "\n",
    "9\n",
    "Traceback (most recent call last):\n",
    "  File \"e:\\WebDir\\Works\\Python\\python-homework-tracks\\module-05\\src\\test.py\", line 4, in <module>\n",
    "    print(message.index(\"li\", 10, 15))\n",
    "ValueError: substring not found\n",
    "\n",
    "Если вам надо провести поиск подстроки в строке справа, существуют методы rfind и rindex:\n",
    "\n",
    "message = \"Hello my little friend!\"\n",
    "\n",
    "print(message.rfind(\"li\"))  # 9\n",
    "print(message.rindex(\"li\"))  # 9\n",
    "\n",
    "Разбиение строки на подстроки\n",
    "\n",
    "Часто возникает ситуация, когда необходимо разбить строку на подстроки по некоторому символу, например, разбить текст на предложения по пробелу после точки, или предложение по словами. Для этого надо воспользоваться методом split, который принимает в качестве аргумента подстроку-маркер, которая будет границей, по которой строка будет разбита на части. В результате работы метода возвращается список строк.\n",
    "\n",
    "message = \"Hello, my little friend. Today is a very good day.\"\n",
    "words = message.split(\" \")\n",
    "sentences = message.split(\". \")\n",
    "print(words)\n",
    "print(sentences)\n",
    "\n",
    "Вывод:\n",
    "\n",
    "['Hello,', 'my', 'little', 'friend.', 'Today', 'is', 'a', 'very', 'good', 'day.']\n",
    "['Hello, my little friend', 'Today is a very good day.']\n",
    "\n",
    "Конкатенация строк\n",
    "\n",
    "Все строки неизменяемые, поэтому все методы, которые как-то \"модифицируют\" строки, возвращают новые строки, никак не изменяя оригинальную.\n",
    "\n",
    "Для объединения нескольких строк в одну через некоторый разделитель используется метод join. По сути, это операция обратная split:\n",
    "\n",
    "words = [\n",
    "    \"Hello,\",\n",
    "    \"my\",\n",
    "    \"little\",\n",
    "    \"friend.\",\n",
    "    \"Today\",\n",
    "    \"is\",\n",
    "    \"a\",\n",
    "    \"very\",\n",
    "    \"good\",\n",
    "    \"day.\",\n",
    "]\n",
    "sentences = [\"Hello, my little friend\", \"Today is a very good day.\"]\n",
    "\n",
    "message_from_words = \" \".join(words)\n",
    "message_from_sentences = \". \".join(sentences)\n",
    "\n",
    "print(message_from_words)  # Hello, my little friend. Today is a very good day.\n",
    "print(message_from_sentences)  # Hello, my little friend. Today is a very good day.\n",
    "\n",
    "Замена подстроки\n",
    "\n",
    "Когда нам надо заменить некоторую подстроку в строке мы можем воспользоваться методом replace:\n",
    "\n",
    "message = \"В темной комнате все кошки черные (наверное)\"\n",
    "square_brackets = message.replace(\"(\", \"[\").replace(\")\", \"]\")\n",
    "clear_brackets = message.replace(\"(\", \"\").replace(\")\", \"\")\n",
    "\n",
    "print(square_brackets)  # В темной комнате все кошки черные [наверное]\n",
    "print(clear_brackets)  # В темной комнате все кошки черные наверное\n",
    "\n",
    "Для удаления фиксированной последовательности в начале строки есть метод removeprefix:\n",
    "\n",
    "print('TestHook'.removeprefix('Test'))  # Hook\n",
    "print('TestHook'.removeprefix('Hook'))  # TestHook\n",
    "\n",
    "Есть парный метод для удаления последовательности в конце строки, removesuffix:\n",
    "\n",
    "print('TestHook'.removesuffix('Hook'))  # Test\n",
    "print('TestHook'.removesuffix('Test'))  # TestHook\n",
    "\n",
    "У вашей компании есть блог. И надо реализовать функцию find_articles для поиска по статьям нашего блога. Есть список articles_dict, в котором находится описание статей блога. Каждый элемент этого списка представляет собой словарь со следующими ключами: фамилии авторов – ключ \"author\", название статьи – ключ \"title\", год издания – ключ \"year\".\n",
    "\n",
    "Реализуйте функцию find_articles,\n",
    "\n",
    "Параметр key функции определяет сочетание букв для поиска. Например, при key=\"Python\" функция определяет, имеются ли в списке articles_dict статьи, в названии или именах авторов которых встречается это сочетание букв. Если такие элементы списка были найдены, то надо вернуть новый список из словарей, содержащий фамилии авторов, название и год издания всех таких статей.\n",
    "\n",
    "Второй ключевой параметр функции letter_case определяет, учитывается ли при поиске регистр букв, по умолчанию он равен False и регистр не имеет значения т.е. \"Python\" и \"python\" это одно и тоже в тексте. Иначе искать полное совпадение."
   ]
  },
  {
   "cell_type": "code",
   "execution_count": 86,
   "metadata": {},
   "outputs": [
    {
     "data": {
      "text/plain": [
       "[{'title': 'Oceans of other planets are full of silver',\n",
       "  'author': 'Artur Clark',\n",
       "  'year': 2020}]"
      ]
     },
     "execution_count": 86,
     "metadata": {},
     "output_type": "execute_result"
    }
   ],
   "source": [
    "articles_dict = [\n",
    "    {\n",
    "        \"title\": \"Endless ocean waters.\",\n",
    "        \"author\": \"Jhon Stark\",\n",
    "        \"year\": 2019,\n",
    "    },\n",
    "    {\n",
    "        \"title\": \"Oceans of other planets are full of silver\",\n",
    "        \"author\": \"Artur Clark\",\n",
    "        \"year\": 2020,\n",
    "    },\n",
    "    {\n",
    "        \"title\": \"An ocean that cannot be crossed.\",\n",
    "        \"author\": \"Silver Name\",\n",
    "        \"year\": 2021,\n",
    "    },\n",
    "    {\n",
    "        \"title\": \"The ocean that you love.\",\n",
    "        \"author\": \"Golden Gun\",\n",
    "        \"year\": 2021,\n",
    "    },\n",
    "]\n",
    "\n",
    "\n",
    "def find_articles(key, letter_case=False):\n",
    "    a = []\n",
    "    for i in articles_dict:\n",
    "        for val in i.values():\n",
    "            try:\n",
    "                if letter_case == False:\n",
    "                    if (key in val) or (key.lower() in val) or (key.capitalize() in val):\n",
    "                        a.append(i)\n",
    "                else:\n",
    "                    if (key in val):\n",
    "                        a.append(i)\n",
    "            except AttributeError:\n",
    "                continue\n",
    "            except TypeError:\n",
    "                continue\n",
    "    return a\n",
    "\n",
    "\n",
    "find_articles('Ocean', 1)\n"
   ]
  },
  {
   "cell_type": "markdown",
   "metadata": {},
   "source": [
    "Задача: Sanitize данных телефонных номеров\n",
    "\n",
    "Вспомним уже рассматривавшиеся методы для удаления лишних пробелов в начале и конце строки.\n",
    "\n",
    "Чтобы удалить пропуски у правого края строки, используют метод rstrip\n",
    "\n",
    "name = \"Avril Lavigne        \"\n",
    "print(name.rstrip())  # Avril Lavigne\n",
    "\n",
    "Чтобы удалить пропуски у левого края строки, используют метод lstrip\n",
    "\n",
    "name = \"         Avril Lavigne\"\n",
    "print(name.lstrip())  # Avril Lavigne\n",
    "\n",
    "Чтобы удалить пропуски с обоих сторон строки, используют метод strip\n",
    "\n",
    "name = \"         Avril Lavigne          \"\n",
    "print(name.strip())  # Avril Lavigne\n",
    "\n",
    "Они нам очень пригодятся при решении следующей задачи\n",
    "\n",
    "Ваша компания проводит маркетинговые кампании с помощью SMS рассылок. Автоматический сбор телефонных номеров с базы данных формирует определенный список. Но клиенты оставляют свои номера в произвольном виде:\n",
    "\n",
    "    \"    +38(050)123-32-34\",\n",
    "    \"     0503451234\",\n",
    "    \"(050)8889900\",\n",
    "    \"38050-111-22-22\",\n",
    "    \"38050 111 22 11   \",\n",
    "\n",
    "Сервис рассылок прекрасно понимает и может отправить SMS-ку клиенту, только если телефонный номер содержит цифры. Необходимо реализовать функцию sanitize_phone_number, которая будет принимать строку с телефонным номером и нормализовать его, т.е. будет убирать символы (, -, ), + и пробелы.\n",
    "\n",
    "Результат:\n",
    "\n",
    "380501233234\n",
    "0503451234\n",
    "0508889900\n",
    "380501112222\n",
    "380501112211\n"
   ]
  },
  {
   "cell_type": "code",
   "execution_count": 91,
   "metadata": {},
   "outputs": [
    {
     "data": {
      "text/plain": [
       "'380501112211'"
      ]
     },
     "execution_count": 91,
     "metadata": {},
     "output_type": "execute_result"
    }
   ],
   "source": [
    "def sanitize_phone_number(phone):\n",
    "    phone = phone.strip()\n",
    "    phone = phone.replace('+', '').replace(\n",
    "        '(', '').replace(')', '').replace('-', '').replace(' ', '')\n",
    "\n",
    "    return phone\n",
    "\n",
    "\n",
    "sanitize_phone_number(\"38050 111 22 11   \")\n",
    "\n",
    "#  \"    +38(050)123-32-34\",\n",
    "#  \"     0503451234\",\n",
    "#  \"(050)8889900\",\n",
    "#  \"38050-111-22-22\",\n",
    "#  \"38050 111 22 11   \",\n",
    "\n",
    "\n",
    "# 380501233234\n",
    "# 0503451234\n",
    "# 0508889900\n",
    "# 380501112222\n",
    "# 380501112211\n"
   ]
  },
  {
   "cell_type": "markdown",
   "metadata": {},
   "source": [
    "Задача: проверка префикса строки\n",
    "В модуле работы с функциями мы писали функцию get_fullname для составления полного имени. Выполним небольшое продолжение задачи и напишем функцию is_check_name, которая принимает два параметра (fullname, first_name) и возвращает логическое True или False. Это результат проверки, является ли строка first_name префиксом строки fullname. Функция is_check_name строго относится к регистру букв, то есть «Sam» и «sam» для неё разные имена."
   ]
  },
  {
   "cell_type": "code",
   "execution_count": 93,
   "metadata": {},
   "outputs": [
    {
     "data": {
      "text/plain": [
       "False"
      ]
     },
     "execution_count": 93,
     "metadata": {},
     "output_type": "execute_result"
    }
   ],
   "source": [
    "def is_check_name(fullname, first_name):\n",
    "    return True if (first_name in fullname) else False\n",
    "\n",
    "\n",
    "is_check_name ('Sam Ivanov', 'sam')\n"
   ]
  }
 ],
 "metadata": {
  "kernelspec": {
   "display_name": "Python 3.9.7 64-bit",
   "language": "python",
   "name": "python3"
  },
  "language_info": {
   "codemirror_mode": {
    "name": "ipython",
    "version": 3
   },
   "file_extension": ".py",
   "mimetype": "text/x-python",
   "name": "python",
   "nbconvert_exporter": "python",
   "pygments_lexer": "ipython3",
   "version": "3.9.7"
  },
  "orig_nbformat": 4,
  "vscode": {
   "interpreter": {
    "hash": "4698eee82bfeef7d49f55fc71934e22031bab73d8ad6ec1bfec5673122f1a993"
   }
  }
 },
 "nbformat": 4,
 "nbformat_minor": 2
}
