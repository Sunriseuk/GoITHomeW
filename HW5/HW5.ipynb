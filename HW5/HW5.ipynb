{
 "cells": [
  {
   "cell_type": "markdown",
   "metadata": {},
   "source": [
    "Управляющие символы\n",
    "\n",
    "В практике программирования достаточно часто используют управляющие символы . Это символы в кодировке, которым не приписано графическое представление, но которые используются для управления устройствами, организации передачи данных и других целей.\n",
    "\n",
    "Вот основные управляющие символы:\n",
    "Обозначение в коде \tОписание\n",
    "\\n \tПеревод строки\n",
    "\\f \tПеревод страницы\n",
    "\\r \tВозврат каретки\n",
    "\\t \tГоризонтальная табуляция\n",
    "\\v \tВертикальная табуляция\n",
    "\n",
    "Для того чтобы можно было вводить эти символы, добавляют экранирующий символ '\\', который обозначает, что следующий за ним знак надо воспринимать как специальный символ, а не буквально.\n",
    "\n",
    "Эти символы мы будем активно использовать в следующем модуле при работе с текстовыми файлами.\n",
    "\n",
    "Напишите функцию real_len, которая подсчитывает и возвращает длину строки без следующих управляющих символов: [\\n, \\f, \\r, \\t, \\v]\n",
    "\n",
    "Для проверки правильности работы функции real_len ей будут переданы следующие строки:\n",
    "\n",
    "    'Alex\\nKdfe23\\t\\f\\v.\\r'\n",
    "    'Al\\nKdfe23\\t\\v.\\r'\n"
   ]
  },
  {
   "cell_type": "code",
   "execution_count": 23,
   "metadata": {},
   "outputs": [
    {
     "data": {
      "text/plain": [
       "'AlexKdfe23.'"
      ]
     },
     "execution_count": 23,
     "metadata": {},
     "output_type": "execute_result"
    }
   ],
   "source": [
    "def real_len(text):\n",
    "    text = text.replace('\\n', '')\n",
    "    text = text.replace('\\f', '')\n",
    "    text = text.replace('\\r', '')\n",
    "    text = text.replace('\\t', '')\n",
    "    text = text.replace('\\v', '')\n",
    "    return len(text)\n",
    "    \n",
    "\n",
    "\n",
    "real_len('Alex\\nKdfe23\\t\\f\\v.\\r')\n"
   ]
  }
 ],
 "metadata": {
  "kernelspec": {
   "display_name": "Python 3.9.7 64-bit",
   "language": "python",
   "name": "python3"
  },
  "language_info": {
   "codemirror_mode": {
    "name": "ipython",
    "version": 3
   },
   "file_extension": ".py",
   "mimetype": "text/x-python",
   "name": "python",
   "nbconvert_exporter": "python",
   "pygments_lexer": "ipython3",
   "version": "3.9.7"
  },
  "orig_nbformat": 4,
  "vscode": {
   "interpreter": {
    "hash": "4698eee82bfeef7d49f55fc71934e22031bab73d8ad6ec1bfec5673122f1a993"
   }
  }
 },
 "nbformat": 4,
 "nbformat_minor": 2
}
