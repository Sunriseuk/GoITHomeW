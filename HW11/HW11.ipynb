{
 "cells": [
  {
   "cell_type": "markdown",
   "metadata": {},
   "source": [
    "Метод init\n",
    "\n",
    "Наиболее часто используемый магический метод — это метод __init__. Этот метод отвечает за инициализацию объекта и, по сути, является конструктором. Когда вы создаете объект класса, то сначала создается пустой объект, который содержит только обязательные служебные атрибуты. После этого (объект уже создан) автоматически вызывается метод __init__, который вы можете модифицировать под ваши нужды.\n",
    "\n",
    "class Human:\n",
    "    def __init__(self, name, age=0):\n",
    "        self.name = name\n",
    "        self.age = age\n",
    "\n",
    "    def say_hello(self):\n",
    "        return f'Hello! I am {self.name}'\n",
    "\n",
    "\n",
    "bill = Human('Bill')\n",
    "print(bill.say_hello())  # Hello! I am Bill\n",
    "print(bill.age)  # 0\n",
    "\n",
    "jill = Human('Jill', 20)\n",
    "print(jill.say_hello())  # Hello! I am Jill\n",
    "print(jill.age)  # 20\n",
    "\n",
    "В этом примере мы создали класс Human, в котором определили метод __init__. В этом методе мы добавляем объектам этого класса поля name и age. Обратите внимание, что метод __init__ может принимать аргументы позиционные и/или именные, как и любой другой метод. Когда мы создаем объект класса Human, мы должны классу передать обязательно хоть один аргумент, поскольку метод __init__ должен принимать обязательно name.\n",
    "\n",
    "Вообще метод __init__ необязательно должен принимать аргументы и создавать поля. Этот метод можно использовать для реализации любых действий, которые вам нужны на этапе, когда объект уже создан и его надо инициализировать.\n",
    "\n",
    "Создайте класс Point, который будет отвечать за отображение геометрической точки на плоскости.\n",
    "\n",
    "Реализуйте через конструктор __init__ инициализацию двух атрибутов: координаты x и координаты y.\n",
    "\n",
    "Пример:\n",
    "\n",
    "point = Point(5, 10)\n",
    "\n",
    "print(point.x)  # 5\n",
    "print(point.y)  # 10\n"
   ]
  },
  {
   "cell_type": "code",
   "execution_count": null,
   "metadata": {},
   "outputs": [],
   "source": [
    "class Point:\n",
    "    def __init__(self, x, y):\n",
    "        self.x = x\n",
    "        self.y = y\n"
   ]
  },
  {
   "cell_type": "markdown",
   "metadata": {},
   "source": [
    "Инкапсуляция в Python (property, setter)\n",
    "\n",
    "В Python невозможно инкапсулировать (сделать недоступными) атрибуты класса. Вы всегда можете напрямую получить доступ к любому атрибуту. Чтобы как-то указать разработчику, что доступ к атрибуту напрямую нежелательный, принято называть такие поля или методы, начиная с одного нижнего подчеркивания. Если же назвать атрибут так, что в начале будет два нижних подчеркивания, то включится механизм \"скрытия\" имен. Это не означает, что доступ к этому полю будет закрыт, просто немного усложнен.\n",
    "\n",
    "class Secret:\n",
    "    public_field = 'this is public'\n",
    "    _private_field = 'avoid using this please'\n",
    "    __real_secret = 'I am hidden'\n",
    "\n",
    "\n",
    "s = Secret()\n",
    "print(s.public_field)  # this is public\n",
    "print(s._private_field)  # avoid using this please\n",
    "print(s._Secret__real_secret)  # I am hidden\n",
    "\n",
    "Как видно из этого примера, доступа при помощи s.__real_secret нет, но можно получить доступ к этому же полю через s._Secret__real_secret, что, в общем-то, ничего не защищает.\n",
    "\n",
    "Этот механизм можно использовать для реализации механизма setter и getter. Бывает возникает необходимость проверить, что пользователь хочет записать в поле. Для этого можно написать отдельный метод, который будет перед сохранением значения в поле реализовывать проверку, но само поле по-прежнему останется доступным. Можно же воспользоваться декоратором setter. Для вычисления значения \"на лету\" или как пару для setter можно воспользоваться декоратором property, который превращает любой метод в поле. Например, мы хотим проверить, что пользователь вводит только положительные числа.\n",
    "\n",
    "class PositiveNumber:\n",
    "    def __init__(self):\n",
    "        self.__value = None\n",
    "\n",
    "    @property\n",
    "    def value(self):\n",
    "        return self.__value\n",
    "\n",
    "    @value.setter\n",
    "    def value(self, new_value):\n",
    "        if new_value > 0:\n",
    "            self.__value = new_value\n",
    "        else:\n",
    "            print('Only numbers greater zero accepted')\n",
    "\n",
    "\n",
    "p = PositiveNumber()\n",
    "p.value = 1\n",
    "print(p.value)  # 1\n",
    "p.value = -1  # Only numbers greater zero accepted\n",
    "p._PositiveNumber__value = -1\n",
    "print(p.value)  # -1\n",
    "\n",
    "В этом примере поле __value можно считать скрытым, оно, в некотором роде, инкапсулировано. Однако же, значение в этом поле может быть получено и модифицировано напрямую. Ещё декоратор property удобен, когда значение в поле надо вычислять в момент обращения.\n",
    "\n",
    "У класса Point через конструктор __init__ объявлены два атрибута: координаты x и y. Скройте доступ к ним с помощью двойного подчеркивания: __x и __y\n",
    "\n",
    "Реализуйте для класса Point механизмы setter и getter к атрибутам __x и __y с помощью декораторов property и setter.\n",
    "\n",
    "Пример:\n",
    "\n",
    "point = Point(5, 10)\n",
    "\n",
    "print(point.x)  # 5\n",
    "print(point.y)  # 10\n"
   ]
  },
  {
   "cell_type": "code",
   "execution_count": 13,
   "metadata": {},
   "outputs": [
    {
     "name": "stdout",
     "output_type": "stream",
     "text": [
      "5\n",
      "10\n"
     ]
    }
   ],
   "source": [
    "class Point:\n",
    "    def __init__(self, x, y):\n",
    "        self.__x = x\n",
    "        self.__y = y\n",
    "        self.x = x\n",
    "        self.y = y\n",
    "\n",
    "    @property\n",
    "    def value_x(self):\n",
    "        return self.__x\n",
    "\n",
    "    @property\n",
    "    def value_y(self):\n",
    "        return self.__y\n",
    "\n",
    "    @value_x.setter\n",
    "    def value(self, value):\n",
    "        self.__x = value\n",
    "\n",
    "    @value_y.setter\n",
    "    def value(self, value):\n",
    "        self.__y = value\n",
    "        \n",
    "\n",
    "\n",
    "point = Point(5, 10)\n",
    "\n",
    "print(point.x)  # 5\n",
    "print(point.y)  # 10\n"
   ]
  },
  {
   "cell_type": "code",
   "execution_count": 47,
   "metadata": {},
   "outputs": [
    {
     "name": "stdout",
     "output_type": "stream",
     "text": [
      "6\n",
      "12\n"
     ]
    }
   ],
   "source": [
    "class Point:\n",
    "    def __init__(self, x, y):\n",
    "        self.__x = None\n",
    "        self.__y = None\n",
    "        self.x = x\n",
    "        self.y = y\n",
    "\n",
    "    @property\n",
    "    def x(self):\n",
    "        return self.__x\n",
    "\n",
    "    @x.setter\n",
    "    def x(self, x):\n",
    "        if isinstance(x, int) or isinstance(x, float):\n",
    "            self.__x = x\n",
    "\n",
    "    @property\n",
    "    def y(self):\n",
    "        return self.__y\n",
    "\n",
    "    @y.setter\n",
    "    def y(self, y):\n",
    "        if isinstance(y, int) or isinstance(y, float):\n",
    "            self.__y = y\n",
    "\n",
    "\n",
    "\n",
    "\n",
    "point = Point(6, 12)\n",
    "\n",
    "print(point.x)  # 5\n",
    "print(point.y)  # 10\n",
    "\n",
    "\n",
    "point = Point('6', 12)\n",
    "\n",
    "print(point.x)  # None\n",
    "print(point.y)  # 10\n"
   ]
  },
  {
   "cell_type": "code",
   "execution_count": 49,
   "metadata": {},
   "outputs": [
    {
     "name": "stdout",
     "output_type": "stream",
     "text": [
      "5\n",
      "12\n"
     ]
    }
   ],
   "source": [
    "class Point:\n",
    "    def __init__(self, x, y):\n",
    "        self.__x = None\n",
    "        self.__y = None\n",
    "        self.x = x\n",
    "        self.y = y\n",
    "\n",
    "    @property\n",
    "    def x(self):\n",
    "        return self.__x\n",
    "\n",
    "    @x.setter\n",
    "    def x(self, x):\n",
    "        if type(x) == int or type(x) == float:\n",
    "            self.__x = x\n",
    "\n",
    "    @property\n",
    "    def y(self):\n",
    "        return self.__y\n",
    "\n",
    "    @y.setter\n",
    "    def y(self, y):\n",
    "        if type(y) == int or type(y) == float:\n",
    "            self.__y = y\n",
    "\n",
    "\n",
    "point = Point(5, 12)\n",
    "\n",
    "print(point.x)  # None\n",
    "print(point.y)  # 10\n"
   ]
  }
 ],
 "metadata": {
  "kernelspec": {
   "display_name": "Python 3.9.7 64-bit",
   "language": "python",
   "name": "python3"
  },
  "language_info": {
   "codemirror_mode": {
    "name": "ipython",
    "version": 3
   },
   "file_extension": ".py",
   "mimetype": "text/x-python",
   "name": "python",
   "nbconvert_exporter": "python",
   "pygments_lexer": "ipython3",
   "version": "3.9.7"
  },
  "orig_nbformat": 4,
  "vscode": {
   "interpreter": {
    "hash": "4698eee82bfeef7d49f55fc71934e22031bab73d8ad6ec1bfec5673122f1a993"
   }
  }
 },
 "nbformat": 4,
 "nbformat_minor": 2
}
